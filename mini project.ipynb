{
 "cells": [
  {
   "cell_type": "markdown",
   "metadata": {},
   "source": [
    "# displaying the count of matches in each year\n",
    " "
   ]
  },
  {
   "cell_type": "code",
   "execution_count": 20,
   "metadata": {
    "scrolled": true
   },
   "outputs": [
    {
     "name": "stdout",
     "output_type": "stream",
     "text": [
      "58 matches in year 2008\n",
      "57 matches in year 2008\n",
      "60 matches in year 2008\n",
      "73 matches in year 2008\n",
      "74 matches in year 2008\n",
      "76 matches in year 2008\n",
      "60 matches in year 2008\n",
      "59 matches in year 2008\n",
      "60 matches in year 2008\n",
      "60 matches in year 2008\n"
     ]
    }
   ],
   "source": [
    "def no_of_matches():\n",
    "    #importing pandas\n",
    "    import pandas as p\n",
    "    #reading the file\n",
    "    filename='Match.csv'\n",
    "    c=p.read_csv(filename)\n",
    "    li=list(c['Season_Year'])\n",
    "    a=[]\n",
    "    i=0\n",
    "    for j in range(2008,2018,1):\n",
    "        a.append(li.count(j))\n",
    "        i+=1\n",
    "    i=2008\n",
    "    for j in range(10):\n",
    "        print(a[j],'matches in year',i)\n"
   ]
  },
  {
   "cell_type": "markdown",
   "metadata": {},
   "source": []
  },
  {
   "cell_type": "code",
   "execution_count": 65,
   "metadata": {},
   "outputs": [
    {
     "data": {
      "image/png": "[encoded data removed]",
      "text/plain": [
       "<Figure size 432x288 with 1 Axes>"
      ]
     },
     "metadata": {
      "needs_background": "light"
     },
     "output_type": "display_data"
    }
   ],
   "source": []
  },
  {
   "cell_type": "code",
   "execution_count": 78,
   "metadata": {},
   "outputs": [],
   "source": []
  },
  {
   "cell_type": "code",
   "execution_count": null,
   "metadata": {},
   "outputs": [],
   "source": []
  }
 ],
 "metadata": {
  "kernelspec": {
   "display_name": "Python 3",
   "language": "python",
   "name": "python3"
  },
  "language_info": {
   "codemirror_mode": {
    "name": "ipython",
    "version": 3
   },
   "file_extension": ".py",
   "mimetype": "text/x-python",
   "name": "python",
   "nbconvert_exporter": "python",
   "pygments_lexer": "ipython3",
   "version": "3.7.3"
  }
 },
 "nbformat": 4,
 "nbformat_minor": 2
}
